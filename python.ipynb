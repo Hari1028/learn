{
 "cells": [
  {
   "cell_type": "code",
   "execution_count": 1,
   "id": "0f5dfc2a",
   "metadata": {},
   "outputs": [
    {
     "name": "stdout",
     "output_type": "stream",
     "text": [
      "7\n"
     ]
    }
   ],
   "source": [
    "#Indentation\n",
    "a = 3\n",
    "b = 4\n",
    "def sum(a,b):\n",
    "  c = a + b\n",
    "  print(c)\n",
    "\n",
    "sum(a,b)\n"
   ]
  },
  {
   "cell_type": "code",
   "execution_count": 2,
   "id": "04344808",
   "metadata": {},
   "outputs": [
    {
     "name": "stdout",
     "output_type": "stream",
     "text": [
      "Package                   Version\n",
      "------------------------- --------------\n",
      "absl-py                   2.1.0\n",
      "anyio                     4.4.0\n",
      "argon2-cffi               23.1.0\n",
      "argon2-cffi-bindings      21.2.0\n",
      "arrow                     1.3.0\n",
      "asttokens                 2.4.1\n",
      "astunparse                1.6.3\n",
      "async-lru                 2.0.4\n",
      "attrs                     23.2.0\n",
      "Babel                     2.15.0\n",
      "beautifulsoup4            4.12.3\n",
      "bleach                    6.1.0\n",
      "blinker                   1.8.2\n",
      "bs4                       0.0.2\n",
      "certifi                   2024.8.30\n",
      "cffi                      1.16.0\n",
      "charset-normalizer        3.4.0\n",
      "click                     8.1.7\n",
      "colorama                  0.4.6\n",
      "comm                      0.2.2\n",
      "contourpy                 1.2.1\n",
      "cycler                    0.12.1\n",
      "debugpy                   1.8.2\n",
      "decorator                 5.1.1\n",
      "defusedxml                0.7.1\n",
      "efficientnet              1.1.1\n",
      "et_xmlfile                2.0.0\n",
      "executing                 2.0.1\n",
      "fastjsonschema            2.20.0\n",
      "Flask                     3.0.3\n",
      "flatbuffers               24.3.25\n",
      "fonttools                 4.53.1\n",
      "fqdn                      1.5.1\n",
      "gast                      0.6.0\n",
      "google                    3.0.0\n",
      "google-pasta              0.2.0\n",
      "grpcio                    1.67.1\n",
      "h11                       0.14.0\n",
      "h5py                      3.12.1\n",
      "html5lib                  1.1\n",
      "httpcore                  1.0.5\n",
      "httpx                     0.27.0\n",
      "idna                      3.10\n",
      "ipykernel                 6.29.5\n",
      "ipython                   8.26.0\n",
      "ipywidgets                8.1.3\n",
      "isoduration               20.11.0\n",
      "itsdangerous              2.2.0\n",
      "jedi                      0.19.1\n",
      "Jinja2                    3.1.4\n",
      "joblib                    1.4.2\n",
      "json5                     0.9.25\n",
      "jsonpointer               3.0.0\n",
      "jsonschema                4.23.0\n",
      "jsonschema-specifications 2023.12.1\n",
      "jupyter                   1.0.0\n",
      "jupyter_client            8.6.2\n",
      "jupyter-console           6.6.3\n",
      "jupyter_core              5.7.2\n",
      "jupyter-events            0.10.0\n",
      "jupyter-lsp               2.2.5\n",
      "jupyter_server            2.14.2\n",
      "jupyter_server_terminals  0.5.3\n",
      "jupyterlab                4.2.4\n",
      "jupyterlab_pygments       0.3.0\n",
      "jupyterlab_server         2.27.3\n",
      "jupyterlab_widgets        3.0.11\n",
      "keras                     3.6.0\n",
      "Keras-Applications        1.0.8\n",
      "kiwisolver                1.4.5\n",
      "libclang                  18.1.1\n",
      "lz4                       4.3.3\n",
      "Markdown                  3.7\n",
      "markdown-it-py            3.0.0\n",
      "MarkupSafe                3.0.2\n",
      "matplotlib                3.9.2\n",
      "matplotlib-inline         0.1.7\n",
      "mdurl                     0.1.2\n",
      "mistune                   3.0.2\n",
      "ml-dtypes                 0.4.1\n",
      "mtcnn                     1.0.0\n",
      "multitasking              0.0.11\n",
      "mysql-connector-python    9.3.0\n",
      "namex                     0.0.8\n",
      "narwhals                  1.33.0\n",
      "natsort                   8.4.0\n",
      "nbclient                  0.10.0\n",
      "nbconvert                 7.16.4\n",
      "nbformat                  5.10.4\n",
      "nest-asyncio              1.6.0\n",
      "notebook                  7.2.1\n",
      "notebook_shim             0.2.4\n",
      "numpy                     1.26.4\n",
      "opencv-python             4.10.0.84\n",
      "opencv-python-headless    4.10.0.84\n",
      "openpyxl                  3.1.5\n",
      "opt_einsum                3.4.0\n",
      "optree                    0.13.0\n",
      "outcome                   1.3.0.post0\n",
      "overrides                 7.7.0\n",
      "packaging                 23.2\n",
      "pandas                    2.2.2\n",
      "pandocfilters             1.5.1\n",
      "parso                     0.8.4\n",
      "peewee                    3.17.7\n",
      "pillow                    10.4.0\n",
      "pip                       24.1.2\n",
      "platformdirs              4.2.2\n",
      "plotly                    6.0.1\n",
      "prometheus_client         0.20.0\n",
      "prompt_toolkit            3.0.47\n",
      "protobuf                  4.25.5\n",
      "psutil                    6.0.0\n",
      "pure_eval                 0.2.3\n",
      "pycparser                 2.22\n",
      "Pygments                  2.18.0\n",
      "pyparsing                 3.1.2\n",
      "python-dateutil           2.9.0.post0\n",
      "python-dotenv             1.1.1\n",
      "python-json-logger        2.0.7\n",
      "pytz                      2024.1\n",
      "pywin32                   306\n",
      "pywinpty                  2.0.13\n",
      "PyYAML                    6.0.1\n",
      "pyzmq                     26.0.3\n",
      "qtconsole                 5.5.2\n",
      "QtPy                      2.4.1\n",
      "referencing               0.35.1\n",
      "requests                  2.32.3\n",
      "rfc3339-validator         0.1.4\n",
      "rfc3986-validator         0.1.1\n",
      "rich                      13.9.4\n",
      "rpds-py                   0.19.0\n",
      "scikit-learn              1.5.1\n",
      "scipy                     1.14.0\n",
      "seaborn                   0.13.2\n",
      "selenium                  4.24.0\n",
      "Send2Trash                1.8.3\n",
      "setuptools                75.3.0\n",
      "six                       1.16.0\n",
      "sniffio                   1.3.1\n",
      "soupsieve                 2.5\n",
      "split-folders             0.5.1\n",
      "stack-data                0.6.3\n",
      "sympy                     1.13.1\n",
      "tensorboard               2.18.0\n",
      "tensorboard-data-server   0.7.2\n",
      "tensorflow                2.18.0\n",
      "tensorflow_intel          2.18.0\n",
      "termcolor                 2.5.0\n",
      "terminado                 0.18.1\n",
      "threadpoolctl             3.5.0\n",
      "tinycss2                  1.3.0\n",
      "torch                     2.5.1\n",
      "tornado                   6.4.1\n",
      "traitlets                 5.14.3\n",
      "trio                      0.26.2\n",
      "trio-websocket            0.11.1\n",
      "types-python-dateutil     2.9.0.20240316\n",
      "typing_extensions         4.12.2\n",
      "tzdata                    2024.1\n",
      "uri-template              1.3.0\n",
      "urllib3                   2.2.3\n",
      "wcwidth                   0.2.13\n",
      "webcolors                 24.6.0\n",
      "webdriver-manager         4.0.2\n",
      "webencodings              0.5.1\n",
      "websocket-client          1.8.0\n",
      "Werkzeug                  3.1.1\n",
      "wheel                     0.44.0\n",
      "widgetsnbextension        4.0.11\n",
      "wrapt                     1.16.0\n",
      "wsproto                   1.2.0\n",
      "xlrd                      2.0.1\n",
      "yfinance                  0.2.48\n",
      "Note: you may need to restart the kernel to use updated packages.\n"
     ]
    }
   ],
   "source": [
    "pip list"
   ]
  },
  {
   "cell_type": "code",
   "execution_count": 3,
   "id": "d95ee10d",
   "metadata": {},
   "outputs": [
    {
     "name": "stdout",
     "output_type": "stream",
     "text": [
      "this is format\n"
     ]
    }
   ],
   "source": [
    "print(f\"this is format\")"
   ]
  },
  {
   "cell_type": "code",
   "execution_count": 8,
   "id": "0a1501f9",
   "metadata": {},
   "outputs": [
    {
     "name": "stdout",
     "output_type": "stream",
     "text": [
      "the value of a is 10\n"
     ]
    }
   ],
   "source": [
    "a = 10\n",
    "print(\"the value of a is {}\".format(a))"
   ]
  },
  {
   "cell_type": "code",
   "execution_count": 9,
   "id": "d6e84acd",
   "metadata": {},
   "outputs": [
    {
     "name": "stdout",
     "output_type": "stream",
     "text": [
      "5\n"
     ]
    }
   ],
   "source": [
    "data = int(input(\"Enter value of variable: \"))\n",
    "print (data)"
   ]
  },
  {
   "cell_type": "markdown",
   "id": "c54fbaca",
   "metadata": {},
   "source": [
    "# Operators"
   ]
  },
  {
   "cell_type": "code",
   "execution_count": 10,
   "id": "e444dae6",
   "metadata": {},
   "outputs": [
    {
     "name": "stdout",
     "output_type": "stream",
     "text": [
      "Addition: 13\n",
      "Subtraction: 7\n",
      "Multiplication: 30\n",
      "Division: 3.3333333333333335\n",
      "Floor Division: 3\n",
      "Modulus: 1\n",
      "Exponentiation: 1000\n"
     ]
    }
   ],
   "source": [
    "# Arithmetic Operators Example\n",
    "a = 10\n",
    "b = 3\n",
    "\n",
    "print(\"Addition:\", a + b)\n",
    "print(\"Subtraction:\", a - b)\n",
    "print(\"Multiplication:\", a * b)\n",
    "print(\"Division:\", a / b)\n",
    "print(\"Floor Division:\", a // b)\n",
    "print(\"Modulus:\", a % b)\n",
    "print(\"Exponentiation:\", a ** b)\n"
   ]
  },
  {
   "cell_type": "code",
   "execution_count": 11,
   "id": "2ae0ede9",
   "metadata": {},
   "outputs": [
    {
     "name": "stdout",
     "output_type": "stream",
     "text": [
      "Equal: False\n",
      "Not Equal: True\n",
      "Greater Than: False\n",
      "Less Than: True\n",
      "Greater Than or Equal: False\n",
      "Less Than or Equal: True\n"
     ]
    }
   ],
   "source": [
    "# Comparison Operators Example\n",
    "a = 5\n",
    "b = 10\n",
    "\n",
    "print(\"Equal:\", a == b)\n",
    "print(\"Not Equal:\", a != b)\n",
    "print(\"Greater Than:\", a > b)\n",
    "print(\"Less Than:\", a < b)\n",
    "print(\"Greater Than or Equal:\", a >= b)\n",
    "print(\"Less Than or Equal:\", a <= b)\n"
   ]
  },
  {
   "cell_type": "code",
   "execution_count": 18,
   "id": "ff05a21d",
   "metadata": {},
   "outputs": [
    {
     "name": "stdout",
     "output_type": "stream",
     "text": [
      "AND: False\n",
      "OR: True\n",
      "NOT x: False\n"
     ]
    }
   ],
   "source": [
    "# Logical Operators Example\n",
    "\"\"\"\n",
    "and: both left and right should be true\n",
    "or : Either one of left and right should be true\n",
    "not: Negation operator\n",
    "\"\"\"\n",
    "x = True\n",
    "y = False\n",
    "\n",
    "print(\"AND:\", x and y)\n",
    "print(\"OR:\", x or y)\n",
    "print(\"NOT x:\", not x)\n"
   ]
  },
  {
   "cell_type": "code",
   "execution_count": 13,
   "id": "fde34173",
   "metadata": {},
   "outputs": [
    {
     "name": "stdout",
     "output_type": "stream",
     "text": [
      "Bitwise AND: 1\n",
      "Bitwise OR: 7\n",
      "Bitwise XOR: 6\n",
      "Bitwise NOT a: -6\n",
      "Left Shift a << 1: 10\n",
      "Right Shift a >> 1: 2\n"
     ]
    }
   ],
   "source": [
    "# Bitwise Operators Example\n",
    "a = 5       # 0101 in binary\n",
    "b = 3       # 0011 in binary\n",
    "\n",
    "print(\"Bitwise AND:\", a & b)      # 0001 -> 1\n",
    "print(\"Bitwise OR:\", a | b)       # 0111 -> 7\n",
    "print(\"Bitwise XOR:\", a ^ b)      # 0110 -> 6\n",
    "print(\"Bitwise NOT a:\", ~a)       # -(a+1) -> -6\n",
    "print(\"Left Shift a << 1:\", a << 1)   # 1010 -> 10\n",
    "print(\"Right Shift a >> 1:\", a >> 1)  # 0010 -> 2\n"
   ]
  },
  {
   "cell_type": "code",
   "execution_count": 15,
   "id": "c3829dab",
   "metadata": {},
   "outputs": [
    {
     "name": "stdout",
     "output_type": "stream",
     "text": [
      "a += 5: 15\n",
      "a -= 3: 12\n",
      "a *= 2: 24\n",
      "a /= 4: 6.0\n",
      "a %= 3: 0.0\n",
      "a //= 2: 0.0\n",
      "a **= 3: 0.0\n"
     ]
    }
   ],
   "source": [
    "# Assignment Operators Example\n",
    "a = 10\n",
    "\n",
    "a += 5\n",
    "print(\"a += 5:\", a)\n",
    "\n",
    "a -= 3\n",
    "print(\"a -= 3:\", a)\n",
    "\n",
    "a *= 2\n",
    "print(\"a *= 2:\", a)\n",
    "\n",
    "a /= 4\n",
    "print(\"a /= 4:\", a)\n",
    "\n",
    "a %= 3\n",
    "print(\"a %= 3:\", a)\n",
    "\n",
    "a //= 2\n",
    "print(\"a //= 2:\", a)\n",
    "\n",
    "a **= 3\n",
    "print(\"a **= 3:\", a)\n",
    "\n",
    "\n",
    "\n"
   ]
  },
  {
   "cell_type": "code",
   "execution_count": 16,
   "id": "37bf50fd",
   "metadata": {},
   "outputs": [
    {
     "name": "stdout",
     "output_type": "stream",
     "text": [
      "x is y: True\n",
      "x is z: False\n",
      "x is not z: True\n"
     ]
    }
   ],
   "source": [
    "# Identity Operators Example\n",
    "x = [1, 2, 3]\n",
    "y = x\n",
    "z = [1, 2, 3]\n",
    "\n",
    "print(\"x is y:\", x is y)       # True\n",
    "print(\"x is z:\", x is z)       # False\n",
    "print(\"x is not z:\", x is not z)  # True\n"
   ]
  },
  {
   "cell_type": "code",
   "execution_count": 17,
   "id": "625dcd86",
   "metadata": {},
   "outputs": [
    {
     "name": "stdout",
     "output_type": "stream",
     "text": [
      "3 in nums: True\n",
      "6 not in nums: True\n"
     ]
    }
   ],
   "source": [
    "# Membership Operators Example\n",
    "nums = [1, 2, 3, 4, 5]\n",
    "\n",
    "print(\"3 in nums:\", 3 in nums)\n",
    "print(\"6 not in nums:\", 6 not in nums)\n"
   ]
  },
  {
   "cell_type": "code",
   "execution_count": 19,
   "id": "2eb04736",
   "metadata": {},
   "outputs": [
    {
     "name": "stdout",
     "output_type": "stream",
     "text": [
      "Python\n",
      "Pro\n",
      "PtoPo\n",
      "Programming\n",
      "Python\n",
      "gnimmargorPnohtyP\n",
      "gimroPotP\n"
     ]
    }
   ],
   "source": [
    "text = \"PythonProgramming\"\n",
    "\n",
    "# Basic Slicing\n",
    "print(text[0:6])         \n",
    "# Negative Index\n",
    "print(text[-11:-8])      \n",
    "# With Step\n",
    "print(text[0:10:2])     \n",
    "# Slice till end\n",
    "print(text[6:])          \n",
    "# Slice from start\n",
    "print(text[:6])         \n",
    "# Reverse string\n",
    "print(text[::-1])       \n",
    "# Every 2nd char from end\n",
    "print(text[::-2])        \n"
   ]
  },
  {
   "cell_type": "code",
   "execution_count": 20,
   "id": "70f87f86",
   "metadata": {},
   "outputs": [
    {
     "name": "stdout",
     "output_type": "stream",
     "text": [
      "[20, 30, 40]\n",
      "[30, 40, 50]\n",
      "[10, 30, 50]\n",
      "[60, 50, 40, 30, 20, 10]\n",
      "[30, 40, 50, 60]\n",
      "[10, 20, 30, 40]\n"
     ]
    }
   ],
   "source": [
    "nums = [10, 20, 30, 40, 50, 60]\n",
    "\n",
    "# Basic Slicing\n",
    "print(nums[1:4])         \n",
    "\n",
    "# Negative Indexing\n",
    "print(nums[-4:-1])       \n",
    "# With Step\n",
    "print(nums[::2])         \n",
    "\n",
    "# Reverse list\n",
    "print(nums[::-1])        \n",
    "\n",
    "# Slice from index 2 to end\n",
    "print(nums[2:])          \n",
    "\n",
    "# Slice from beginning to index 4\n",
    "print(nums[:4])          "
   ]
  },
  {
   "cell_type": "code",
   "execution_count": 21,
   "id": "4946c86d",
   "metadata": {},
   "outputs": [
    {
     "name": "stdout",
     "output_type": "stream",
     "text": [
      "('b', 'c', 'd')\n",
      "('c', 'd', 'e')\n",
      "('a', 'c', 'e')\n",
      "('f', 'e', 'd', 'c', 'b', 'a')\n"
     ]
    }
   ],
   "source": [
    "data = ('a', 'b', 'c', 'd', 'e', 'f')\n",
    "\n",
    "# Basic Slicing\n",
    "print(data[1:4])        \n",
    "\n",
    "# Negative Slicing\n",
    "print(data[-4:-1])       \n",
    "\n",
    "# With Steps\n",
    "print(data[::2])         \n",
    "# Reverse Tuple\n",
    "print(data[::-1])        \n"
   ]
  },
  {
   "cell_type": "code",
   "execution_count": 22,
   "id": "3d635fcc",
   "metadata": {},
   "outputs": [
    {
     "name": "stdout",
     "output_type": "stream",
     "text": [
      "Original: '   Hello, World!   '\n",
      "After strip(): 'Hello, World!'\n"
     ]
    }
   ],
   "source": [
    "# strip() Example\n",
    "text = \"   Hello, World!   \"\n",
    "stripped_text = text.strip()\n",
    "\n",
    "print(\"Original:\", repr(text))\n",
    "print(\"After strip():\", repr(stripped_text))\n"
   ]
  },
  {
   "cell_type": "code",
   "execution_count": 24,
   "id": "559964e5",
   "metadata": {},
   "outputs": [
    {
     "name": "stdout",
     "output_type": "stream",
     "text": [
      "Text: Hello, World!\n",
      "Length of string: 13\n"
     ]
    }
   ],
   "source": [
    "# len() Example\n",
    "text = \"Hello, World!\"\n",
    "length = len(text)\n",
    "\n",
    "print(\"Text:\", text)\n",
    "print(\"Length of string:\", length)\n"
   ]
  },
  {
   "cell_type": "code",
   "execution_count": 23,
   "id": "eb4c7028",
   "metadata": {},
   "outputs": [
    {
     "name": "stdout",
     "output_type": "stream",
     "text": [
      "Original: Hello, World!\n",
      "Lowercase: hello, world!\n"
     ]
    }
   ],
   "source": [
    "# lower() Example\n",
    "text = \"Hello, World!\"\n",
    "lowercase_text = text.lower()\n",
    "\n",
    "print(\"Original:\", text)\n",
    "print(\"Lowercase:\", lowercase_text)\n"
   ]
  },
  {
   "cell_type": "code",
   "execution_count": 25,
   "id": "5be72c08",
   "metadata": {},
   "outputs": [
    {
     "name": "stdout",
     "output_type": "stream",
     "text": [
      "Original: Hello, World!\n",
      "Uppercase: HELLO, WORLD!\n"
     ]
    }
   ],
   "source": [
    "# upper() Example\n",
    "text = \"Hello, World!\"\n",
    "uppercase_text = text.upper()\n",
    "\n",
    "print(\"Original:\", text)\n",
    "print(\"Uppercase:\", uppercase_text)\n"
   ]
  },
  {
   "cell_type": "code",
   "execution_count": 26,
   "id": "61febdd5",
   "metadata": {},
   "outputs": [
    {
     "name": "stdout",
     "output_type": "stream",
     "text": [
      "Fruits: ['apple', 'banana', 'cherry']\n"
     ]
    }
   ],
   "source": [
    "# Create a list\n",
    "fruits = [\"apple\", \"banana\", \"cherry\"]\n",
    "print(\"Fruits:\", fruits)\n"
   ]
  },
  {
   "cell_type": "code",
   "execution_count": 27,
   "id": "03d6a38c",
   "metadata": {},
   "outputs": [
    {
     "name": "stdout",
     "output_type": "stream",
     "text": [
      "First fruit: apple\n",
      "Last fruit: cherry\n"
     ]
    }
   ],
   "source": [
    "# Access list elements\n",
    "fruits = [\"apple\", \"banana\", \"cherry\"]\n",
    "print(\"First fruit:\", fruits[0])\n",
    "print(\"Last fruit:\", fruits[-1])\n"
   ]
  },
  {
   "cell_type": "code",
   "execution_count": 28,
   "id": "670cbbcc",
   "metadata": {},
   "outputs": [
    {
     "name": "stdout",
     "output_type": "stream",
     "text": [
      "After append: ['apple', 'banana', 'cherry']\n"
     ]
    }
   ],
   "source": [
    "# Append an item\n",
    "fruits = [\"apple\", \"banana\"]\n",
    "fruits.append(\"cherry\")\n",
    "print(\"After append:\", fruits)\n"
   ]
  },
  {
   "cell_type": "code",
   "execution_count": 29,
   "id": "91bd78ef",
   "metadata": {},
   "outputs": [
    {
     "name": "stdout",
     "output_type": "stream",
     "text": [
      "After insert: ['apple', 'banana', 'cherry']\n"
     ]
    }
   ],
   "source": [
    "# Insert an item at index\n",
    "fruits = [\"apple\", \"cherry\"]\n",
    "fruits.insert(1, \"banana\")\n",
    "print(\"After insert:\", fruits)\n"
   ]
  },
  {
   "cell_type": "code",
   "execution_count": 30,
   "id": "946bece2",
   "metadata": {},
   "outputs": [
    {
     "name": "stdout",
     "output_type": "stream",
     "text": [
      "After insert: ['apple', 'banana', 'cherry']\n"
     ]
    }
   ],
   "source": [
    "# Insert an item at index\n",
    "fruits = [\"apple\", \"cherry\"]\n",
    "fruits.insert(1, \"banana\")\n",
    "print(\"After insert:\", fruits)\n"
   ]
  },
  {
   "cell_type": "code",
   "execution_count": 31,
   "id": "ace60a42",
   "metadata": {},
   "outputs": [
    {
     "name": "stdout",
     "output_type": "stream",
     "text": [
      "After remove: ['apple', 'cherry']\n"
     ]
    }
   ],
   "source": [
    "# Remove an item by value\n",
    "fruits = [\"apple\", \"banana\", \"cherry\"]\n",
    "fruits.remove(\"banana\")\n",
    "print(\"After remove:\", fruits)\n"
   ]
  },
  {
   "cell_type": "code",
   "execution_count": 32,
   "id": "bb477a06",
   "metadata": {},
   "outputs": [
    {
     "name": "stdout",
     "output_type": "stream",
     "text": [
      "After remove: ['apple', 'cherry']\n"
     ]
    }
   ],
   "source": [
    "# Remove an item by value\n",
    "fruits = [\"apple\", \"banana\", \"cherry\"]\n",
    "fruits.remove(\"banana\")\n",
    "print(\"After remove:\", fruits)\n"
   ]
  },
  {
   "cell_type": "code",
   "execution_count": 33,
   "id": "7241d9f2",
   "metadata": {},
   "outputs": [
    {
     "name": "stdout",
     "output_type": "stream",
     "text": [
      "Popped item: banana\n",
      "List after pop: ['apple', 'cherry']\n"
     ]
    }
   ],
   "source": [
    "# Pop an item by index\n",
    "fruits = [\"apple\", \"banana\", \"cherry\"]\n",
    "popped = fruits.pop(1)\n",
    "print(\"Popped item:\", popped)\n",
    "print(\"List after pop:\", fruits)\n"
   ]
  },
  {
   "cell_type": "code",
   "execution_count": 34,
   "id": "22719ed5",
   "metadata": {},
   "outputs": [
    {
     "name": "stdout",
     "output_type": "stream",
     "text": [
      "Length: 3\n"
     ]
    }
   ],
   "source": [
    "# Length of list\n",
    "fruits = [\"apple\", \"banana\", \"cherry\"]\n",
    "print(\"Length:\", len(fruits))\n"
   ]
  },
  {
   "cell_type": "code",
   "execution_count": 35,
   "id": "97e957dd",
   "metadata": {},
   "outputs": [
    {
     "name": "stdout",
     "output_type": "stream",
     "text": [
      "apple\n",
      "banana\n",
      "cherry\n"
     ]
    }
   ],
   "source": [
    "# Loop through list\n",
    "fruits = [\"apple\", \"banana\", \"cherry\"]\n",
    "for fruit in fruits:\n",
    "    print(fruit)\n"
   ]
  },
  {
   "cell_type": "code",
   "execution_count": 36,
   "id": "986cb723",
   "metadata": {},
   "outputs": [
    {
     "name": "stdout",
     "output_type": "stream",
     "text": [
      "Sorted list: ['apple', 'banana', 'cherry']\n"
     ]
    }
   ],
   "source": [
    "# Sort list\n",
    "fruits = [\"banana\", \"cherry\", \"apple\"]\n",
    "fruits.sort()\n",
    "print(\"Sorted list:\", fruits)\n"
   ]
  },
  {
   "cell_type": "code",
   "execution_count": 37,
   "id": "3b120d30",
   "metadata": {},
   "outputs": [
    {
     "name": "stdout",
     "output_type": "stream",
     "text": [
      "Reversed list: ['cherry', 'banana', 'apple']\n"
     ]
    }
   ],
   "source": [
    "# Reverse list\n",
    "fruits = [\"apple\", \"banana\", \"cherry\"]\n",
    "fruits.reverse()\n",
    "print(\"Reversed list:\", fruits)\n"
   ]
  },
  {
   "cell_type": "markdown",
   "id": "08e11369",
   "metadata": {},
   "source": [
    " TUPLE OPERATIONS"
   ]
  },
  {
   "cell_type": "code",
   "execution_count": 38,
   "id": "de45abfb",
   "metadata": {},
   "outputs": [
    {
     "name": "stdout",
     "output_type": "stream",
     "text": [
      "Tuple: ('apple', 'banana', 'cherry')\n"
     ]
    }
   ],
   "source": [
    "# Create a tuple\n",
    "my_tuple = (\"apple\", \"banana\", \"cherry\")\n",
    "print(\"Tuple:\", my_tuple)\n"
   ]
  },
  {
   "cell_type": "code",
   "execution_count": 39,
   "id": "4025d45b",
   "metadata": {},
   "outputs": [
    {
     "name": "stdout",
     "output_type": "stream",
     "text": [
      "First element: apple\n",
      "Last element: cherry\n"
     ]
    }
   ],
   "source": [
    "# Access tuple elements\n",
    "my_tuple = (\"apple\", \"banana\", \"cherry\")\n",
    "print(\"First element:\", my_tuple[0])\n",
    "print(\"Last element:\", my_tuple[-1])\n"
   ]
  },
  {
   "cell_type": "code",
   "execution_count": 40,
   "id": "24737213",
   "metadata": {},
   "outputs": [
    {
     "name": "stdout",
     "output_type": "stream",
     "text": [
      "First element: apple\n",
      "Last element: cherry\n"
     ]
    }
   ],
   "source": [
    "# Access tuple elements\n",
    "my_tuple = (\"apple\", \"banana\", \"cherry\")\n",
    "print(\"First element:\", my_tuple[0])\n",
    "print(\"Last element:\", my_tuple[-1])\n"
   ]
  },
  {
   "cell_type": "code",
   "execution_count": 41,
   "id": "80d8fbd6",
   "metadata": {},
   "outputs": [
    {
     "name": "stdout",
     "output_type": "stream",
     "text": [
      "Length: 3\n"
     ]
    }
   ],
   "source": [
    "# Length of tuple\n",
    "my_tuple = (\"apple\", \"banana\", \"cherry\")\n",
    "print(\"Length:\", len(my_tuple))\n"
   ]
  },
  {
   "cell_type": "code",
   "execution_count": 42,
   "id": "223c6d40",
   "metadata": {},
   "outputs": [
    {
     "name": "stdout",
     "output_type": "stream",
     "text": [
      "apple\n",
      "banana\n",
      "cherry\n"
     ]
    }
   ],
   "source": [
    "# Loop through a tuple\n",
    "my_tuple = (\"apple\", \"banana\", \"cherry\")\n",
    "for item in my_tuple:\n",
    "    print(item)\n"
   ]
  },
  {
   "cell_type": "code",
   "execution_count": 43,
   "id": "884ce40d",
   "metadata": {},
   "outputs": [
    {
     "name": "stdout",
     "output_type": "stream",
     "text": [
      "Combined tuple: ('apple', 'banana', 'cherry', 'date')\n"
     ]
    }
   ],
   "source": [
    "# Concatenate tuples\n",
    "tuple1 = (\"apple\", \"banana\")\n",
    "tuple2 = (\"cherry\", \"date\")\n",
    "combined = tuple1 + tuple2\n",
    "print(\"Combined tuple:\", combined)\n"
   ]
  },
  {
   "cell_type": "markdown",
   "id": "f0f83904",
   "metadata": {},
   "source": [
    "SET OPERATIONS"
   ]
  },
  {
   "cell_type": "code",
   "execution_count": 44,
   "id": "8050f90d",
   "metadata": {},
   "outputs": [
    {
     "name": "stdout",
     "output_type": "stream",
     "text": [
      "Set: {'cherry', 'banana', 'apple'}\n"
     ]
    }
   ],
   "source": [
    "# Create a set\n",
    "my_set = {\"apple\", \"banana\", \"cherry\"}\n",
    "print(\"Set:\", my_set)\n"
   ]
  },
  {
   "cell_type": "code",
   "execution_count": 45,
   "id": "b127e391",
   "metadata": {},
   "outputs": [
    {
     "name": "stdout",
     "output_type": "stream",
     "text": [
      "After add: {'cherry', 'banana', 'apple'}\n"
     ]
    }
   ],
   "source": [
    "# Add element to set\n",
    "my_set = {\"apple\", \"banana\"}\n",
    "my_set.add(\"cherry\")\n",
    "print(\"After add:\", my_set)\n"
   ]
  },
  {
   "cell_type": "code",
   "execution_count": 46,
   "id": "57ef1b54",
   "metadata": {},
   "outputs": [
    {
     "name": "stdout",
     "output_type": "stream",
     "text": [
      "After remove: {'cherry', 'apple'}\n"
     ]
    }
   ],
   "source": [
    "# Remove element from set\n",
    "my_set = {\"apple\", \"banana\", \"cherry\"}\n",
    "my_set.remove(\"banana\")\n",
    "print(\"After remove:\", my_set)\n"
   ]
  },
  {
   "cell_type": "code",
   "execution_count": 47,
   "id": "924ff262",
   "metadata": {},
   "outputs": [
    {
     "name": "stdout",
     "output_type": "stream",
     "text": [
      "Union: {'cherry', 'banana', 'apple'}\n"
     ]
    }
   ],
   "source": [
    "# Set union\n",
    "a = {\"apple\", \"banana\"}\n",
    "b = {\"cherry\", \"banana\"}\n",
    "union_set = a.union(b)\n",
    "print(\"Union:\", union_set)\n"
   ]
  },
  {
   "cell_type": "code",
   "execution_count": 48,
   "id": "b3ba2e4b",
   "metadata": {},
   "outputs": [
    {
     "name": "stdout",
     "output_type": "stream",
     "text": [
      "Intersection: {'banana'}\n"
     ]
    }
   ],
   "source": [
    "# Set intersection\n",
    "a = {\"apple\", \"banana\"}\n",
    "b = {\"banana\", \"cherry\"}\n",
    "intersection = a.intersection(b)\n",
    "print(\"Intersection:\", intersection)\n"
   ]
  },
  {
   "cell_type": "code",
   "execution_count": 49,
   "id": "f307b91b",
   "metadata": {},
   "outputs": [
    {
     "name": "stdout",
     "output_type": "stream",
     "text": [
      "Difference: {'cherry', 'apple'}\n"
     ]
    }
   ],
   "source": [
    "# Set difference\n",
    "a = {\"apple\", \"banana\", \"cherry\"}\n",
    "b = {\"banana\", \"date\"}\n",
    "difference = a.difference(b)\n",
    "print(\"Difference:\", difference)\n"
   ]
  },
  {
   "cell_type": "markdown",
   "id": "9cdb26c6",
   "metadata": {},
   "source": [
    "DICTIONARY OPERATIONS"
   ]
  },
  {
   "cell_type": "code",
   "execution_count": 50,
   "id": "afcd5cbb",
   "metadata": {},
   "outputs": [
    {
     "name": "stdout",
     "output_type": "stream",
     "text": [
      "Dictionary: {'name': 'Alice', 'age': 25}\n"
     ]
    }
   ],
   "source": [
    "# Create dictionary\n",
    "my_dict = {\"name\": \"Alice\", \"age\": 25}\n",
    "print(\"Dictionary:\", my_dict)\n"
   ]
  },
  {
   "cell_type": "code",
   "execution_count": 51,
   "id": "21a128e6",
   "metadata": {},
   "outputs": [
    {
     "name": "stdout",
     "output_type": "stream",
     "text": [
      "Name: Alice\n"
     ]
    }
   ],
   "source": [
    "# Access value\n",
    "my_dict = {\"name\": \"Alice\", \"age\": 25}\n",
    "print(\"Name:\", my_dict[\"name\"])\n"
   ]
  },
  {
   "cell_type": "code",
   "execution_count": 52,
   "id": "3c5811ac",
   "metadata": {},
   "outputs": [
    {
     "name": "stdout",
     "output_type": "stream",
     "text": [
      "Updated dictionary: {'name': 'Alice', 'age': 25}\n"
     ]
    }
   ],
   "source": [
    "# Add or update\n",
    "my_dict = {\"name\": \"Alice\"}\n",
    "my_dict[\"age\"] = 25\n",
    "print(\"Updated dictionary:\", my_dict)\n"
   ]
  },
  {
   "cell_type": "code",
   "execution_count": 53,
   "id": "cda40240",
   "metadata": {},
   "outputs": [
    {
     "name": "stdout",
     "output_type": "stream",
     "text": [
      "After pop: {'name': 'Alice'}\n"
     ]
    }
   ],
   "source": [
    "# Remove key\n",
    "my_dict = {\"name\": \"Alice\", \"age\": 25}\n",
    "my_dict.pop(\"age\")\n",
    "print(\"After pop:\", my_dict)\n"
   ]
  },
  {
   "cell_type": "code",
   "execution_count": 54,
   "id": "966ec39d",
   "metadata": {},
   "outputs": [
    {
     "name": "stdout",
     "output_type": "stream",
     "text": [
      "name : Alice\n",
      "age : 25\n"
     ]
    }
   ],
   "source": [
    "# Loop through dictionary\n",
    "my_dict = {\"name\": \"Alice\", \"age\": 25}\n",
    "for key, value in my_dict.items():\n",
    "    print(key, \":\", value)\n"
   ]
  },
  {
   "cell_type": "code",
   "execution_count": 55,
   "id": "c18cca41",
   "metadata": {},
   "outputs": [
    {
     "name": "stdout",
     "output_type": "stream",
     "text": [
      "Keys: ['name', 'age']\n",
      "Values: ['Alice', 25]\n"
     ]
    }
   ],
   "source": [
    "# Get keys and values\n",
    "my_dict = {\"name\": \"Alice\", \"age\": 25}\n",
    "print(\"Keys:\", list(my_dict.keys()))\n",
    "print(\"Values:\", list(my_dict.values()))\n"
   ]
  },
  {
   "cell_type": "code",
   "execution_count": 56,
   "id": "9301402f",
   "metadata": {},
   "outputs": [
    {
     "name": "stdout",
     "output_type": "stream",
     "text": [
      "Fruit: apple\n",
      "Fruit: banana\n",
      "Fruit: cherry\n"
     ]
    }
   ],
   "source": [
    "# for loop (basic)\n",
    "# For loop example\n",
    "fruits = [\"apple\", \"banana\", \"cherry\"]\n",
    "for fruit in fruits:\n",
    "    print(\"Fruit:\", fruit)\n"
   ]
  },
  {
   "cell_type": "code",
   "execution_count": 57,
   "id": "704fd5c9",
   "metadata": {},
   "outputs": [
    {
     "name": "stdout",
     "output_type": "stream",
     "text": [
      "Number: 0\n",
      "Number: 1\n",
      "Number: 2\n",
      "Number: 3\n",
      "Number: 4\n"
     ]
    }
   ],
   "source": [
    "# for loop with range()\n",
    "# For loop using range\n",
    "for i in range(5):\n",
    "    print(\"Number:\", i)\n"
   ]
  },
  {
   "cell_type": "code",
   "execution_count": 58,
   "id": "5ad55ea0",
   "metadata": {},
   "outputs": [
    {
     "name": "stdout",
     "output_type": "stream",
     "text": [
      "Count: 0\n",
      "Count: 1\n",
      "Count: 2\n",
      "Count: 3\n",
      "Count: 4\n"
     ]
    }
   ],
   "source": [
    "#while loop\n",
    "# While loop example\n",
    "count = 0\n",
    "while count < 5:\n",
    "    print(\"Count:\", count)\n",
    "    count += 1\n"
   ]
  },
  {
   "cell_type": "code",
   "execution_count": 59,
   "id": "d7bd35ad",
   "metadata": {},
   "outputs": [
    {
     "name": "stdout",
     "output_type": "stream",
     "text": [
      "i: 0\n",
      "i: 1\n",
      "i: 2\n",
      "i: 3\n",
      "i: 4\n"
     ]
    }
   ],
   "source": [
    "# for loop with break\n",
    "\n",
    "for i in range(10):\n",
    "    if i == 5:\n",
    "        break\n",
    "    print(\"i:\", i)\n"
   ]
  },
  {
   "cell_type": "code",
   "execution_count": 60,
   "id": "42008328",
   "metadata": {},
   "outputs": [
    {
     "name": "stdout",
     "output_type": "stream",
     "text": [
      "i: 0\n",
      "i: 1\n",
      "i: 2\n",
      "Loop completed!\n",
      "count: 0\n",
      "count: 1\n",
      "count: 2\n",
      "While loop completed!\n"
     ]
    }
   ],
   "source": [
    "# Loop with else\n",
    "# For-else loop\n",
    "for i in range(3):\n",
    "    print(\"i:\", i)\n",
    "else:\n",
    "    print(\"Loop completed!\")\n",
    "\n",
    "# While-else loop\n",
    "count = 0\n",
    "while count < 3:\n",
    "    print(\"count:\", count)\n",
    "    count += 1\n",
    "else:\n",
    "    print(\"While loop completed!\")\n"
   ]
  },
  {
   "cell_type": "code",
   "execution_count": 61,
   "id": "0abf5bd5",
   "metadata": {},
   "outputs": [],
   "source": [
    "# PEP 8 Convention"
   ]
  },
  {
   "cell_type": "code",
   "execution_count": 62,
   "id": "04d6f925",
   "metadata": {},
   "outputs": [
    {
     "name": "stdout",
     "output_type": "stream",
     "text": [
      "Radius: 1 => Area: 3.14\n",
      "Radius: 2.5 => Area: 19.63\n",
      "Radius: 3 => Area: 28.27\n",
      "Radius: 0 => Area: 0.00\n",
      "Radius: -4 => Area: 0.00\n"
     ]
    }
   ],
   "source": [
    "# This is a sample PEP 8-compliant Python program\n",
    "\n",
    "# Constants should be in all caps\n",
    "PI = 3.14159\n",
    "\n",
    "\n",
    "def calculate_area(radius):\n",
    "    \"\"\"Calculate the area of a circle given its radius.\"\"\"\n",
    "    if radius <= 0:\n",
    "        return 0\n",
    "    return PI * radius ** 2\n",
    "\n",
    "\n",
    "def display_areas(radii):\n",
    "    \"\"\"Print the area for each radius in the list.\"\"\"\n",
    "    for r in radii:\n",
    "        area = calculate_area(r)\n",
    "        print(f\"Radius: {r} => Area: {area:.2f}\")\n",
    "\n",
    "\n",
    "def main():\n",
    "    \"\"\"Main function to run the area calculator.\"\"\"\n",
    "    radii = [1, 2.5, 3, 0, -4]\n",
    "    display_areas(radii)\n",
    "\n",
    "\n",
    "if __name__ == \"__main__\":\n",
    "    main()\n"
   ]
  }
 ],
 "metadata": {
  "kernelspec": {
   "display_name": "Python 3",
   "language": "python",
   "name": "python3"
  },
  "language_info": {
   "codemirror_mode": {
    "name": "ipython",
    "version": 3
   },
   "file_extension": ".py",
   "mimetype": "text/x-python",
   "name": "python",
   "nbconvert_exporter": "python",
   "pygments_lexer": "ipython3",
   "version": "3.12.4"
  }
 },
 "nbformat": 4,
 "nbformat_minor": 5
}
